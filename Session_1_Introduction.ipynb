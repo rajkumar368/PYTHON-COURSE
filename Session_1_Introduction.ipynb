{
  "nbformat": 4,
  "nbformat_minor": 0,
  "metadata": {
    "colab": {
      "provenance": [],
      "authorship_tag": "ABX9TyOiIU+YpqzVs4A17LxXcTZD",
      "include_colab_link": true
    },
    "kernelspec": {
      "name": "python3",
      "display_name": "Python 3"
    },
    "language_info": {
      "name": "python"
    }
  },
  "cells": [
    {
      "cell_type": "markdown",
      "metadata": {
        "id": "view-in-github",
        "colab_type": "text"
      },
      "source": [
        "<a href=\"https://colab.research.google.com/github/rajkumar368/PYTHON-COURSE/blob/master/Session_1_Introduction.ipynb\" target=\"_parent\"><img src=\"https://colab.research.google.com/assets/colab-badge.svg\" alt=\"Open In Colab\"/></a>"
      ]
    },
    {
      "cell_type": "code",
      "source": [
        "print(\"Hi\")"
      ],
      "metadata": {
        "id": "vRHY-qkg70yE"
      },
      "execution_count": null,
      "outputs": []
    },
    {
      "cell_type": "markdown",
      "source": [
        "### Execution Mode\n",
        "- Interative mode cmd python >>> quit()\n",
        "- Scripting Mode .py python file_name.py\n",
        "- IDE Jupyter ctrl +enter , shift + enter"
      ],
      "metadata": {
        "id": "w7mEZIo_7shD"
      }
    },
    {
      "cell_type": "code",
      "source": [
        "num1 = 100\n",
        "num2 = 200\n",
        "num3 = num1 + num2\n",
        "print(num3)"
      ],
      "metadata": {
        "id": "t2-VjdQ67oAl"
      },
      "execution_count": null,
      "outputs": []
    },
    {
      "cell_type": "markdown",
      "source": [
        "### Python Installation Check"
      ],
      "metadata": {
        "id": "IdT6TDXU77ws"
      }
    },
    {
      "cell_type": "code",
      "source": [
        "python --version"
      ],
      "metadata": {
        "id": "pMD6MRhC8B-o"
      },
      "execution_count": null,
      "outputs": []
    },
    {
      "cell_type": "markdown",
      "source": [
        "### Launch Colab"
      ],
      "metadata": {
        "id": "RnukXdmi8Rgf"
      }
    },
    {
      "cell_type": "code",
      "source": [
        "https://colab.research.google.com/"
      ],
      "metadata": {
        "id": "_nf_bCmk8VAN"
      },
      "execution_count": null,
      "outputs": []
    }
  ]
}